{
 "cells": [
  {
   "cell_type": "code",
   "execution_count": 75,
   "metadata": {},
   "outputs": [],
   "source": [
    "import sqlite3"
   ]
  },
  {
   "cell_type": "code",
   "execution_count": 76,
   "metadata": {},
   "outputs": [],
   "source": [
    "def print_table(file_name, TABLE_NAME):\n",
    "    connection = sqlite3.connect(f'{file_name}')\n",
    "    cursor = connection.cursor()\n",
    "    sql = f'select * from {TABLE_NAME}'\n",
    "    cursor.execute(sql)\n",
    "    for row in cursor:\n",
    "        print(row)\n",
    "    connection.close()"
   ]
  },
  {
   "cell_type": "markdown",
   "metadata": {},
   "source": [
    "# Connect to the table\n",
    "\n",
    "\n",
    "When you connect, if file .db not in your folder, it will be create a new file."
   ]
  },
  {
   "cell_type": "code",
   "execution_count": 77,
   "metadata": {},
   "outputs": [
    {
     "name": "stdout",
     "output_type": "stream",
     "text": [
      "Connection established ...\n"
     ]
    }
   ],
   "source": [
    "connection = sqlite3.connect('example.db')\n",
    "print(\"Connection established ...\")\n",
    "\n",
    "# Createing a cursor object using the cursor() method\n",
    "cursor = connection.cursor()\n",
    "\n",
    "connection.close()"
   ]
  },
  {
   "cell_type": "markdown",
   "metadata": {},
   "source": [
    "# Create a table"
   ]
  },
  {
   "cell_type": "code",
   "execution_count": 78,
   "metadata": {},
   "outputs": [
    {
     "name": "stdout",
     "output_type": "stream",
     "text": [
      "TABLE create successfully........\n"
     ]
    }
   ],
   "source": [
    "connection = sqlite3.connect('example.db')\n",
    "\n",
    "cursor = connection.cursor()\n",
    "\n",
    "\n",
    "# Doping EMPLOYEE table of already exists.\n",
    "cursor.execute('DROP TABLE IF EXISTS EMPLOYEES')\n",
    "\n",
    "# Creating table as per requirement\n",
    "sql = '''\n",
    "    CREATE TABLE EMPLOYEES(\n",
    "        ID INTERGER,\n",
    "        FIRST_NAME CHAR(20) NOT NULL,\n",
    "        LAST_NAME CHAR(20),\n",
    "        AGE INT,\n",
    "        GENDER CHAR(1),\n",
    "        INCOME FLOAT,\n",
    "        CONTACT INTERGER\n",
    "    )\n",
    "'''\n",
    "cursor.execute(sql)\n",
    "print(\"TABLE create successfully........\")\n",
    "\n",
    "# Commit your changes in the database\n",
    "connection.commit()\n",
    "\n",
    "cursor.close()"
   ]
  },
  {
   "cell_type": "code",
   "execution_count": 79,
   "metadata": {},
   "outputs": [],
   "source": [
    "print_table(file_name='example.db', TABLE_NAME='EMPLOYEES')"
   ]
  },
  {
   "cell_type": "markdown",
   "metadata": {},
   "source": [
    "# Insert Data"
   ]
  },
  {
   "cell_type": "code",
   "execution_count": 80,
   "metadata": {},
   "outputs": [],
   "source": [
    "import random\n",
    "import string\n",
    "\n",
    "# Function to generate random name\n",
    "def generate_name():\n",
    "    first_name = ''.join(random.choices(string.ascii_uppercase, k=random.randint(4, 10)))\n",
    "    last_name = ''.join(random.choices(string.ascii_uppercase, k=random.randint(4, 10)))\n",
    "    return first_name, last_name\n",
    "\n",
    "# Function to generate random age\n",
    "def generate_age():\n",
    "    return random.randint(20, 60)\n",
    "\n",
    "# Function to generate random sex\n",
    "def generate_sex():\n",
    "    return random.choice(['M', 'F'])\n",
    "\n",
    "# Function to generate random income\n",
    "def generate_income():\n",
    "    return random.randint(30000, 100000)\n",
    "\n",
    "# Connect to SQLite database\n",
    "connection = sqlite3.connect('example.db')\n",
    "cursor = connection.cursor()\n",
    "\n",
    "# Generate and execute SQL script to insert random people\n",
    "sql = \"\"\n",
    "for i in range(20):\n",
    "    id = i+1\n",
    "    first_name, last_name = generate_name()\n",
    "    age = generate_age()\n",
    "    sex = generate_sex()\n",
    "    income = generate_income()\n",
    "    sql += f\"INSERT INTO EMPLOYEES(ID, FIRST_NAME, LAST_NAME, AGE, GENDER, INCOME) VALUES ('{id}', '{first_name}', '{last_name}', {age}, '{sex}', {income});\\n\"\n",
    "\n",
    "cursor.executescript(sql)\n",
    "\n",
    "connection.commit()\n",
    "connection.close()"
   ]
  },
  {
   "cell_type": "code",
   "execution_count": 81,
   "metadata": {},
   "outputs": [
    {
     "name": "stdout",
     "output_type": "stream",
     "text": [
      "(1, 'SNTXAZN', 'QEWWDPG', 56, 'F', 99863.0, None)\n",
      "(2, 'ZENQ', 'QPCKIT', 28, 'M', 47627.0, None)\n",
      "(3, 'CGIENHS', 'IJBEHYICU', 42, 'M', 80972.0, None)\n",
      "(4, 'ZINTRU', 'FQWPHZLPRO', 35, 'M', 60630.0, None)\n",
      "(5, 'GDWEGFU', 'CRLQXY', 60, 'M', 52775.0, None)\n",
      "(6, 'NHAPAKOA', 'UPKFGVWGC', 35, 'M', 41829.0, None)\n",
      "(7, 'XMKOKAAO', 'DFXDVH', 39, 'M', 30156.0, None)\n",
      "(8, 'UDDE', 'AMSSVMR', 46, 'F', 48906.0, None)\n",
      "(9, 'GIBE', 'KFCVR', 59, 'M', 32781.0, None)\n",
      "(10, 'GAPGKJPPZP', 'CBPYIR', 56, 'M', 39760.0, None)\n",
      "(11, 'MKCPS', 'QDEGVGWY', 50, 'M', 64173.0, None)\n",
      "(12, 'BRPZHBMGI', 'ZWUQDITODS', 36, 'M', 35501.0, None)\n",
      "(13, 'ZPURB', 'RYNXPNEWV', 22, 'M', 41897.0, None)\n",
      "(14, 'KFCURYB', 'YMPARHN', 34, 'M', 50755.0, None)\n",
      "(15, 'HQNSDZS', 'KDPSVQCFXT', 35, 'F', 42366.0, None)\n",
      "(16, 'UEBQ', 'SMOHY', 54, 'F', 42614.0, None)\n",
      "(17, 'LSIDYNSVFS', 'NEGJWVFMY', 36, 'F', 58184.0, None)\n",
      "(18, 'NXEKRBSVLX', 'LISJNSOJDS', 51, 'F', 72167.0, None)\n",
      "(19, 'IKXLM', 'BSYZ', 25, 'M', 52676.0, None)\n",
      "(20, 'GTHWK', 'JOXWTTHX', 24, 'M', 90411.0, None)\n"
     ]
    }
   ],
   "source": [
    "print_table(file_name='example.db', TABLE_NAME='EMPLOYEES')"
   ]
  },
  {
   "cell_type": "markdown",
   "metadata": {},
   "source": [
    "# Select Data"
   ]
  },
  {
   "cell_type": "code",
   "execution_count": 82,
   "metadata": {},
   "outputs": [
    {
     "name": "stdout",
     "output_type": "stream",
     "text": [
      "fetchone method\n",
      "(1, 'SNTXAZN', 'QEWWDPG', 56, 'F', 99863.0, None)\n",
      "fetchall method\n",
      "[(2, 'ZENQ', 'QPCKIT', 28, 'M', 47627.0, None), (3, 'CGIENHS', 'IJBEHYICU', 42, 'M', 80972.0, None), (4, 'ZINTRU', 'FQWPHZLPRO', 35, 'M', 60630.0, None), (5, 'GDWEGFU', 'CRLQXY', 60, 'M', 52775.0, None), (6, 'NHAPAKOA', 'UPKFGVWGC', 35, 'M', 41829.0, None), (7, 'XMKOKAAO', 'DFXDVH', 39, 'M', 30156.0, None), (8, 'UDDE', 'AMSSVMR', 46, 'F', 48906.0, None), (9, 'GIBE', 'KFCVR', 59, 'M', 32781.0, None), (10, 'GAPGKJPPZP', 'CBPYIR', 56, 'M', 39760.0, None), (11, 'MKCPS', 'QDEGVGWY', 50, 'M', 64173.0, None), (12, 'BRPZHBMGI', 'ZWUQDITODS', 36, 'M', 35501.0, None), (13, 'ZPURB', 'RYNXPNEWV', 22, 'M', 41897.0, None), (14, 'KFCURYB', 'YMPARHN', 34, 'M', 50755.0, None), (15, 'HQNSDZS', 'KDPSVQCFXT', 35, 'F', 42366.0, None), (16, 'UEBQ', 'SMOHY', 54, 'F', 42614.0, None), (17, 'LSIDYNSVFS', 'NEGJWVFMY', 36, 'F', 58184.0, None), (18, 'NXEKRBSVLX', 'LISJNSOJDS', 51, 'F', 72167.0, None), (19, 'IKXLM', 'BSYZ', 25, 'M', 52676.0, None), (20, 'GTHWK', 'JOXWTTHX', 24, 'M', 90411.0, None)]\n"
     ]
    }
   ],
   "source": [
    "# Connecting to sqlite\n",
    "connection = sqlite3.connect('example.db')\n",
    "\n",
    "cursor = connection.cursor()\n",
    "\n",
    "# Retrieving data\n",
    "cursor.execute('''\n",
    "    SELECT * from EMPLOYEES\n",
    "''')\n",
    "\n",
    "# Fetching 1st row from the table\n",
    "result = cursor.fetchone()\n",
    "print('fetchone method')\n",
    "print(result)\n",
    "\n",
    "# Fetching 1st row from the table\n",
    "result = cursor.fetchall()\n",
    "print('fetchall method')\n",
    "print(result)\n",
    "\n",
    "connection.commit()\n",
    "connection.close()"
   ]
  },
  {
   "cell_type": "markdown",
   "metadata": {},
   "source": [
    "# Where Clause"
   ]
  },
  {
   "cell_type": "code",
   "execution_count": 83,
   "metadata": {},
   "outputs": [
    {
     "name": "stdout",
     "output_type": "stream",
     "text": [
      "(13, 'ZPURB', 'RYNXPNEWV', 22, 'M', 41897.0, None)\n"
     ]
    }
   ],
   "source": [
    "connection = sqlite3.connect('example.db')\n",
    "cursor = connection.cursor()\n",
    "\n",
    "# Retrieving specific records using the where clause\n",
    "cursor.execute('SELECT * from EMPLOYEES WHERE AGE < 23')\n",
    "\n",
    "for row in cursor:\n",
    "    print(row)\n",
    "\n",
    "connection.commit()\n",
    "connection.close()"
   ]
  },
  {
   "cell_type": "markdown",
   "metadata": {},
   "source": [
    "# ORDER BY"
   ]
  },
  {
   "cell_type": "code",
   "execution_count": 84,
   "metadata": {},
   "outputs": [
    {
     "name": "stdout",
     "output_type": "stream",
     "text": [
      "(13, 'ZPURB', 'RYNXPNEWV', 22, 'M', 41897.0, None)\n",
      "(20, 'GTHWK', 'JOXWTTHX', 24, 'M', 90411.0, None)\n",
      "(19, 'IKXLM', 'BSYZ', 25, 'M', 52676.0, None)\n",
      "(2, 'ZENQ', 'QPCKIT', 28, 'M', 47627.0, None)\n",
      "(14, 'KFCURYB', 'YMPARHN', 34, 'M', 50755.0, None)\n",
      "(4, 'ZINTRU', 'FQWPHZLPRO', 35, 'M', 60630.0, None)\n",
      "(6, 'NHAPAKOA', 'UPKFGVWGC', 35, 'M', 41829.0, None)\n",
      "(15, 'HQNSDZS', 'KDPSVQCFXT', 35, 'F', 42366.0, None)\n",
      "(12, 'BRPZHBMGI', 'ZWUQDITODS', 36, 'M', 35501.0, None)\n",
      "(17, 'LSIDYNSVFS', 'NEGJWVFMY', 36, 'F', 58184.0, None)\n",
      "(7, 'XMKOKAAO', 'DFXDVH', 39, 'M', 30156.0, None)\n",
      "(3, 'CGIENHS', 'IJBEHYICU', 42, 'M', 80972.0, None)\n",
      "(8, 'UDDE', 'AMSSVMR', 46, 'F', 48906.0, None)\n",
      "(11, 'MKCPS', 'QDEGVGWY', 50, 'M', 64173.0, None)\n",
      "(18, 'NXEKRBSVLX', 'LISJNSOJDS', 51, 'F', 72167.0, None)\n",
      "(16, 'UEBQ', 'SMOHY', 54, 'F', 42614.0, None)\n",
      "(1, 'SNTXAZN', 'QEWWDPG', 56, 'F', 99863.0, None)\n",
      "(10, 'GAPGKJPPZP', 'CBPYIR', 56, 'M', 39760.0, None)\n",
      "(9, 'GIBE', 'KFCVR', 59, 'M', 32781.0, None)\n",
      "(5, 'GDWEGFU', 'CRLQXY', 60, 'M', 52775.0, None)\n"
     ]
    }
   ],
   "source": [
    "connection = sqlite3.connect('example.db')\n",
    "cursor = connection.cursor()\n",
    "\n",
    "sql = '''\n",
    "    SELECT * from EMPLOYEES ORDER BY AGE\n",
    "'''\n",
    "\n",
    "cursor.execute(sql)\n",
    "\n",
    "for row in cursor:\n",
    "    print(row)\n",
    "\n",
    "connection.commit()\n",
    "connection.close()"
   ]
  },
  {
   "cell_type": "markdown",
   "metadata": {},
   "source": [
    "# Update Table"
   ]
  },
  {
   "cell_type": "code",
   "execution_count": 85,
   "metadata": {},
   "outputs": [],
   "source": [
    "connection = sqlite3.connect('example.db')\n",
    "cursor = connection.cursor()\n",
    "\n",
    "sql = '''\n",
    "    UPDATE EMPLOYEES SET AGE=18 WHERE GENDER = \"M\"\n",
    "'''\n",
    "cursor.execute(sql)\n",
    "\n",
    "connection.commit()\n",
    "connection.close()"
   ]
  },
  {
   "cell_type": "code",
   "execution_count": 86,
   "metadata": {},
   "outputs": [
    {
     "name": "stdout",
     "output_type": "stream",
     "text": [
      "(1, 'SNTXAZN', 'QEWWDPG', 56, 'F', 99863.0, None)\n",
      "(2, 'ZENQ', 'QPCKIT', 18, 'M', 47627.0, None)\n",
      "(3, 'CGIENHS', 'IJBEHYICU', 18, 'M', 80972.0, None)\n",
      "(4, 'ZINTRU', 'FQWPHZLPRO', 18, 'M', 60630.0, None)\n",
      "(5, 'GDWEGFU', 'CRLQXY', 18, 'M', 52775.0, None)\n",
      "(6, 'NHAPAKOA', 'UPKFGVWGC', 18, 'M', 41829.0, None)\n",
      "(7, 'XMKOKAAO', 'DFXDVH', 18, 'M', 30156.0, None)\n",
      "(8, 'UDDE', 'AMSSVMR', 46, 'F', 48906.0, None)\n",
      "(9, 'GIBE', 'KFCVR', 18, 'M', 32781.0, None)\n",
      "(10, 'GAPGKJPPZP', 'CBPYIR', 18, 'M', 39760.0, None)\n",
      "(11, 'MKCPS', 'QDEGVGWY', 18, 'M', 64173.0, None)\n",
      "(12, 'BRPZHBMGI', 'ZWUQDITODS', 18, 'M', 35501.0, None)\n",
      "(13, 'ZPURB', 'RYNXPNEWV', 18, 'M', 41897.0, None)\n",
      "(14, 'KFCURYB', 'YMPARHN', 18, 'M', 50755.0, None)\n",
      "(15, 'HQNSDZS', 'KDPSVQCFXT', 35, 'F', 42366.0, None)\n",
      "(16, 'UEBQ', 'SMOHY', 54, 'F', 42614.0, None)\n",
      "(17, 'LSIDYNSVFS', 'NEGJWVFMY', 36, 'F', 58184.0, None)\n",
      "(18, 'NXEKRBSVLX', 'LISJNSOJDS', 51, 'F', 72167.0, None)\n",
      "(19, 'IKXLM', 'BSYZ', 18, 'M', 52676.0, None)\n",
      "(20, 'GTHWK', 'JOXWTTHX', 18, 'M', 90411.0, None)\n"
     ]
    }
   ],
   "source": [
    "print_table(file_name='example.db', TABLE_NAME='EMPLOYEES')"
   ]
  },
  {
   "cell_type": "markdown",
   "metadata": {},
   "source": [
    "# Delete Data"
   ]
  },
  {
   "cell_type": "code",
   "execution_count": 87,
   "metadata": {},
   "outputs": [],
   "source": [
    "connection = sqlite3.connect('example.db')\n",
    "cursor = connection.cursor()\n",
    "\n",
    "sql = '''\n",
    "    DELETE FROM EMPLOYEES WHERE AGE > 25\n",
    "'''\n",
    "cursor.execute(sql)\n",
    "\n",
    "connection.commit()\n",
    "connection.close()"
   ]
  },
  {
   "cell_type": "code",
   "execution_count": 88,
   "metadata": {},
   "outputs": [
    {
     "name": "stdout",
     "output_type": "stream",
     "text": [
      "(2, 'ZENQ', 'QPCKIT', 18, 'M', 47627.0, None)\n",
      "(3, 'CGIENHS', 'IJBEHYICU', 18, 'M', 80972.0, None)\n",
      "(4, 'ZINTRU', 'FQWPHZLPRO', 18, 'M', 60630.0, None)\n",
      "(5, 'GDWEGFU', 'CRLQXY', 18, 'M', 52775.0, None)\n",
      "(6, 'NHAPAKOA', 'UPKFGVWGC', 18, 'M', 41829.0, None)\n",
      "(7, 'XMKOKAAO', 'DFXDVH', 18, 'M', 30156.0, None)\n",
      "(9, 'GIBE', 'KFCVR', 18, 'M', 32781.0, None)\n",
      "(10, 'GAPGKJPPZP', 'CBPYIR', 18, 'M', 39760.0, None)\n",
      "(11, 'MKCPS', 'QDEGVGWY', 18, 'M', 64173.0, None)\n",
      "(12, 'BRPZHBMGI', 'ZWUQDITODS', 18, 'M', 35501.0, None)\n",
      "(13, 'ZPURB', 'RYNXPNEWV', 18, 'M', 41897.0, None)\n",
      "(14, 'KFCURYB', 'YMPARHN', 18, 'M', 50755.0, None)\n",
      "(19, 'IKXLM', 'BSYZ', 18, 'M', 52676.0, None)\n",
      "(20, 'GTHWK', 'JOXWTTHX', 18, 'M', 90411.0, None)\n"
     ]
    }
   ],
   "source": [
    "print_table(file_name='example.db', TABLE_NAME='EMPLOYEES')"
   ]
  },
  {
   "cell_type": "markdown",
   "metadata": {},
   "source": [
    "# Drop Table"
   ]
  },
  {
   "cell_type": "code",
   "execution_count": 89,
   "metadata": {},
   "outputs": [],
   "source": [
    "# connection = sqlite3.connect('example.db')\n",
    "# cursor = connection.cursor()\n",
    "\n",
    "# sql = '''\n",
    "#     DROP TABLE EMPLOYEES\n",
    "# '''\n",
    "# cursor.execute(sql)\n",
    "# print('Table dropped...')\n",
    "\n",
    "\n",
    "# # Creating table as per requirement\n",
    "# sql = '''\n",
    "#     CREATE TABLE EMPLOYEES(\n",
    "#         FIRST_NAME CHAR(20) NOT NULL,\n",
    "#         LAST_NAME CHAR(20),\n",
    "#         AGE INT,\n",
    "#         GENDER CHAR(1),\n",
    "#         INCOME FLOAT\n",
    "#     )\n",
    "# '''\n",
    "# cursor.execute(sql)\n",
    "\n",
    "# connection.commit()\n",
    "# connection.close()"
   ]
  },
  {
   "cell_type": "code",
   "execution_count": 90,
   "metadata": {},
   "outputs": [],
   "source": [
    "# print_table(file_name='example.db', TABLE_NAME='EMPLOYEES')"
   ]
  },
  {
   "cell_type": "markdown",
   "metadata": {},
   "source": [
    "# Limit"
   ]
  },
  {
   "cell_type": "code",
   "execution_count": 91,
   "metadata": {},
   "outputs": [
    {
     "name": "stdout",
     "output_type": "stream",
     "text": [
      "(2, 'ZENQ', 'QPCKIT', 18, 'M', 47627.0, None)\n",
      "(3, 'CGIENHS', 'IJBEHYICU', 18, 'M', 80972.0, None)\n",
      "(4, 'ZINTRU', 'FQWPHZLPRO', 18, 'M', 60630.0, None)\n"
     ]
    }
   ],
   "source": [
    "connection = sqlite3.connect('example.db')\n",
    "cursor = connection.cursor()\n",
    "\n",
    "sql = '''\n",
    "    SELECT * from EMPLOYEES LIMIT 3\n",
    "'''\n",
    "cursor.execute(sql)\n",
    "\n",
    "for row in cursor:\n",
    "    print(row)\n",
    "\n",
    "connection.commit()\n",
    "connection.close()"
   ]
  },
  {
   "cell_type": "code",
   "execution_count": 92,
   "metadata": {},
   "outputs": [
    {
     "name": "stdout",
     "output_type": "stream",
     "text": [
      "(2, 'ZENQ', 'QPCKIT', 18, 'M', 47627.0, None)\n",
      "(3, 'CGIENHS', 'IJBEHYICU', 18, 'M', 80972.0, None)\n",
      "(4, 'ZINTRU', 'FQWPHZLPRO', 18, 'M', 60630.0, None)\n",
      "(5, 'GDWEGFU', 'CRLQXY', 18, 'M', 52775.0, None)\n",
      "(6, 'NHAPAKOA', 'UPKFGVWGC', 18, 'M', 41829.0, None)\n",
      "(7, 'XMKOKAAO', 'DFXDVH', 18, 'M', 30156.0, None)\n",
      "(9, 'GIBE', 'KFCVR', 18, 'M', 32781.0, None)\n",
      "(10, 'GAPGKJPPZP', 'CBPYIR', 18, 'M', 39760.0, None)\n",
      "(11, 'MKCPS', 'QDEGVGWY', 18, 'M', 64173.0, None)\n",
      "(12, 'BRPZHBMGI', 'ZWUQDITODS', 18, 'M', 35501.0, None)\n",
      "(13, 'ZPURB', 'RYNXPNEWV', 18, 'M', 41897.0, None)\n",
      "(14, 'KFCURYB', 'YMPARHN', 18, 'M', 50755.0, None)\n",
      "(19, 'IKXLM', 'BSYZ', 18, 'M', 52676.0, None)\n",
      "(20, 'GTHWK', 'JOXWTTHX', 18, 'M', 90411.0, None)\n"
     ]
    }
   ],
   "source": [
    "print_table('example.db', 'EMPLOYEES')"
   ]
  },
  {
   "cell_type": "markdown",
   "metadata": {},
   "source": [
    "# Join"
   ]
  },
  {
   "cell_type": "code",
   "execution_count": 93,
   "metadata": {},
   "outputs": [],
   "source": [
    "connection = sqlite3.connect('example.db')\n",
    "cursor = connection.cursor()\n",
    "\n",
    "sql = '''\n",
    "    SELECT e1.CONTACT AS contact, e2.ID AS id \n",
    "    FROM EMPLOYEES AS e1 \n",
    "    INNER JOIN EMPLOYEES AS e2 ON e1.ID = e2.CONTACT;\n",
    "'''\n",
    "cursor.execute(sql)\n",
    "\n",
    "\n",
    "connection.commit()\n",
    "connection.close()\n"
   ]
  },
  {
   "cell_type": "code",
   "execution_count": 94,
   "metadata": {},
   "outputs": [
    {
     "name": "stdout",
     "output_type": "stream",
     "text": [
      "(2, 'ZENQ', 'QPCKIT', 18, 'M', 47627.0, None)\n",
      "(3, 'CGIENHS', 'IJBEHYICU', 18, 'M', 80972.0, None)\n",
      "(4, 'ZINTRU', 'FQWPHZLPRO', 18, 'M', 60630.0, None)\n",
      "(5, 'GDWEGFU', 'CRLQXY', 18, 'M', 52775.0, None)\n",
      "(6, 'NHAPAKOA', 'UPKFGVWGC', 18, 'M', 41829.0, None)\n",
      "(7, 'XMKOKAAO', 'DFXDVH', 18, 'M', 30156.0, None)\n",
      "(9, 'GIBE', 'KFCVR', 18, 'M', 32781.0, None)\n",
      "(10, 'GAPGKJPPZP', 'CBPYIR', 18, 'M', 39760.0, None)\n",
      "(11, 'MKCPS', 'QDEGVGWY', 18, 'M', 64173.0, None)\n",
      "(12, 'BRPZHBMGI', 'ZWUQDITODS', 18, 'M', 35501.0, None)\n",
      "(13, 'ZPURB', 'RYNXPNEWV', 18, 'M', 41897.0, None)\n",
      "(14, 'KFCURYB', 'YMPARHN', 18, 'M', 50755.0, None)\n",
      "(19, 'IKXLM', 'BSYZ', 18, 'M', 52676.0, None)\n",
      "(20, 'GTHWK', 'JOXWTTHX', 18, 'M', 90411.0, None)\n"
     ]
    }
   ],
   "source": [
    "print_table('example.db', 'EMPLOYEES')"
   ]
  },
  {
   "cell_type": "code",
   "execution_count": null,
   "metadata": {},
   "outputs": [],
   "source": []
  }
 ],
 "metadata": {
  "kernelspec": {
   "display_name": "Python 3",
   "language": "python",
   "name": "python3"
  },
  "language_info": {
   "codemirror_mode": {
    "name": "ipython",
    "version": 3
   },
   "file_extension": ".py",
   "mimetype": "text/x-python",
   "name": "python",
   "nbconvert_exporter": "python",
   "pygments_lexer": "ipython3",
   "version": "3.10.12"
  }
 },
 "nbformat": 4,
 "nbformat_minor": 2
}
